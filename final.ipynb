{
 "cells": [
  {
   "cell_type": "code",
   "execution_count": null,
   "metadata": {},
   "outputs": [],
   "source": [
    "import torch\n",
    "import numpy as np\n",
    "from torch_geometric.nn import global_mean_pool as gap\n",
    "from torch_geometric.nn import global_max_pool as gmp\n",
    "from torch_geometric.nn import global_add_pool as gsp\n",
    "from torch_geometric.nn import SAGPooling as Pool\n",
    "from torch_geometric.nn import SAGEConv, GATv2Conv, GINConv, ResGatedGraphConv\n",
    "import torch.nn.functional as F\n",
    "\n",
    "from torch import Tensor, dropout\n",
    "from torch_scatter import scatter, scatter_mean\n",
    "import torch.nn as nn\n",
    "from torchvision import models\n",
    "import src.egnn as egnn_models\n",
    "from torch.nn.utils.rnn import pad_sequence"
   ]
  },
  {
   "cell_type": "code",
   "execution_count": null,
   "metadata": {},
   "outputs": [],
   "source": [
    "device = torch.device(\"cuda\" if torch.cuda.is_available() else \"cpu\")"
   ]
  },
  {
   "cell_type": "code",
   "execution_count": null,
   "metadata": {},
   "outputs": [],
   "source": []
  }
 ],
 "metadata": {
  "kernelspec": {
   "display_name": "ap-venv",
   "language": "python",
   "name": "python3"
  },
  "language_info": {
   "name": "python",
   "version": "3.10.12"
  }
 },
 "nbformat": 4,
 "nbformat_minor": 2
}
